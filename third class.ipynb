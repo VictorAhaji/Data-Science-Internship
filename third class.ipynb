{
 "cells": [
  {
   "cell_type": "code",
   "execution_count": 6,
   "id": "d5332099",
   "metadata": {},
   "outputs": [
    {
     "data": {
      "text/plain": [
       "['False',\n",
       " 'None',\n",
       " 'True',\n",
       " '__peg_parser__',\n",
       " 'and',\n",
       " 'as',\n",
       " 'assert',\n",
       " 'async',\n",
       " 'await',\n",
       " 'break',\n",
       " 'class',\n",
       " 'continue',\n",
       " 'def',\n",
       " 'del',\n",
       " 'elif',\n",
       " 'else',\n",
       " 'except',\n",
       " 'finally',\n",
       " 'for',\n",
       " 'from',\n",
       " 'global',\n",
       " 'if',\n",
       " 'import',\n",
       " 'in',\n",
       " 'is',\n",
       " 'lambda',\n",
       " 'nonlocal',\n",
       " 'not',\n",
       " 'or',\n",
       " 'pass',\n",
       " 'raise',\n",
       " 'return',\n",
       " 'try',\n",
       " 'while',\n",
       " 'with',\n",
       " 'yield']"
      ]
     },
     "execution_count": 6,
     "metadata": {},
     "output_type": "execute_result"
    }
   ],
   "source": [
    "import keyword\n",
    "keyword.kwlist"
   ]
  },
  {
   "cell_type": "code",
   "execution_count": 8,
   "id": "64430a0f",
   "metadata": {},
   "outputs": [
    {
     "name": "stdout",
     "output_type": "stream",
     "text": [
      "enter Patient age:95\n",
      "Patient age in month 1140 months\n"
     ]
    }
   ],
   "source": [
    "# a code to calculate a patient age in months\n",
    "\n",
    "Patient_age = int(input(\"enter Patient's age:\" ))\n",
    "month_in_a_year = 12\n",
    "Patient_age_in_month = (Patient_age * month_in_a_year)\n",
    "print(\"Patient age in month\", Patient_age_in_month, \"months\")\n"
   ]
  },
  {
   "cell_type": "code",
   "execution_count": 11,
   "id": "2c0819e6",
   "metadata": {},
   "outputs": [
    {
     "name": "stdout",
     "output_type": "stream",
     "text": [
      "enter temperature in celsius:45\n",
      "Temperature in Fahreneheit is 113.2\n"
     ]
    }
   ],
   "source": [
    "# write a code convert celsius to fahreneheit\n",
    "\n",
    "Temp_in_Celsius = int(input(\"enter temperature in celsius:\" ))\n",
    "Celsius_to_fahreneheit = (9/5*Temp_in_Celsius)+32.2\n",
    "print(\"Temperature in Fahreneheit is\", Celsius_to_fahreneheit)\n"
   ]
  },
  {
   "cell_type": "code",
   "execution_count": 13,
   "id": "8d27b55b",
   "metadata": {},
   "outputs": [
    {
     "name": "stdout",
     "output_type": "stream",
     "text": [
      "pear banana top\n",
      "pearbananatop\n"
     ]
    }
   ],
   "source": [
    "# unpacking a collection (list)\n",
    "fruit = [\"pear\", \"banana\", \"top\"]\n",
    "x, y, z, = fruit\n",
    "print(x, y, z)\n",
    "print(x+y+z)\n"
   ]
  },
  {
   "cell_type": "code",
   "execution_count": 14,
   "id": "8f552d68",
   "metadata": {},
   "outputs": [
    {
     "name": "stdout",
     "output_type": "stream",
     "text": [
      "Python is awesome\n"
     ]
    }
   ],
   "source": [
    "# Global variable; variable created outside a function and can be utilized by everyone in and outsude of the function\n",
    "\n",
    "x = \"awesome\" #Global Variable.\n",
    "def myfunc():\n",
    "  print(\"Python is \" + x) # used in a function.\n",
    "\n",
    "myfunc()\n"
   ]
  },
  {
   "cell_type": "code",
   "execution_count": 15,
   "id": "7d48b6f2",
   "metadata": {},
   "outputs": [
    {
     "name": "stdout",
     "output_type": "stream",
     "text": [
      "Python is fantastic\n",
      "Python is awesome\n"
     ]
    }
   ],
   "source": [
    "# local variable; variables created inside a function\n",
    "\n",
    "x = \"awesome\" # global variable\n",
    "\n",
    "def myfunc():\n",
    "  x = \"fantastic\" # local variable\n",
    "  print(\"Python is \" + x) # this prints with the local variable\n",
    "\n",
    "myfunc()\n",
    "\n",
    "print(\"Python is \" + x) # prints with the global variable\n"
   ]
  },
  {
   "cell_type": "code",
   "execution_count": 20,
   "id": "1911dfcf",
   "metadata": {},
   "outputs": [
    {
     "name": "stdout",
     "output_type": "stream",
     "text": [
      "Python is fantastic\n",
      "Python is fantastic\n"
     ]
    }
   ],
   "source": [
    "# making a local variable a global variable\n",
    "'''we make use of the global keyword'''\n",
    "x = \"awesome\"\n",
    "def myFunc():\n",
    "    global x # have made my local variable global and overwrites the previous value of x\n",
    "    x = \"fantastic\" # local variable\n",
    "    print(\"Python is \" + x)\n",
    "myFunc()\n",
    "print(\"Python is \"+ x)"
   ]
  },
  {
   "cell_type": "code",
   "execution_count": 22,
   "id": "0dd946c2",
   "metadata": {},
   "outputs": [
    {
     "name": "stdout",
     "output_type": "stream",
     "text": [
      "<class 'range'>\n"
     ]
    }
   ],
   "source": [
    "x = range(1, 45)\n",
    "x\n",
    "print(type(x))"
   ]
  },
  {
   "cell_type": "code",
   "execution_count": 24,
   "id": "53f6e881",
   "metadata": {},
   "outputs": [],
   "source": [
    "def my_upcase(x):\n",
    "    stg = x\n",
    "    return stg.lower()\n",
    "\n",
    "    "
   ]
  },
  {
   "cell_type": "code",
   "execution_count": 28,
   "id": "58a07091",
   "metadata": {},
   "outputs": [
    {
     "data": {
      "text/plain": [
       "'cake'"
      ]
     },
     "execution_count": 28,
     "metadata": {},
     "output_type": "execute_result"
    }
   ],
   "source": [
    "my_upcase(\"CAKE\")\n"
   ]
  },
  {
   "cell_type": "code",
   "execution_count": 5,
   "id": "1d88c5b9",
   "metadata": {},
   "outputs": [
    {
     "name": "stdout",
     "output_type": "stream",
     "text": [
      "The \"break\" statement\n",
      "*********************\n",
      "\n",
      "   break_stmt ::= \"break\"\n",
      "\n",
      "\"break\" may only occur syntactically nested in a \"for\" or \"while\"\n",
      "loop, but not nested in a function or class definition within that\n",
      "loop.\n",
      "\n",
      "It terminates the nearest enclosing loop, skipping the optional \"else\"\n",
      "clause if the loop has one.\n",
      "\n",
      "If a \"for\" loop is terminated by \"break\", the loop control target\n",
      "keeps its current value.\n",
      "\n",
      "When \"break\" passes control out of a \"try\" statement with a \"finally\"\n",
      "clause, that \"finally\" clause is executed before really leaving the\n",
      "loop.\n",
      "\n",
      "Related help topics: while, for\n",
      "\n"
     ]
    }
   ],
   "source": [
    "help(\"break\")"
   ]
  },
  {
   "cell_type": "code",
   "execution_count": 6,
   "id": "82150c33",
   "metadata": {},
   "outputs": [
    {
     "name": "stdout",
     "output_type": "stream",
     "text": [
      "The \"for\" statement\n",
      "*******************\n",
      "\n",
      "The \"for\" statement is used to iterate over the elements of a sequence\n",
      "(such as a string, tuple or list) or other iterable object:\n",
      "\n",
      "   for_stmt ::= \"for\" target_list \"in\" expression_list \":\" suite\n",
      "                [\"else\" \":\" suite]\n",
      "\n",
      "The expression list is evaluated once; it should yield an iterable\n",
      "object.  An iterator is created for the result of the\n",
      "\"expression_list\".  The suite is then executed once for each item\n",
      "provided by the iterator, in the order returned by the iterator.  Each\n",
      "item in turn is assigned to the target list using the standard rules\n",
      "for assignments (see Assignment statements), and then the suite is\n",
      "executed.  When the items are exhausted (which is immediately when the\n",
      "sequence is empty or an iterator raises a \"StopIteration\" exception),\n",
      "the suite in the \"else\" clause, if present, is executed, and the loop\n",
      "terminates.\n",
      "\n",
      "A \"break\" statement executed in the first suite terminates the loop\n",
      "without executing the \"else\" clause’s suite.  A \"continue\" statement\n",
      "executed in the first suite skips the rest of the suite and continues\n",
      "with the next item, or with the \"else\" clause if there is no next\n",
      "item.\n",
      "\n",
      "The for-loop makes assignments to the variables in the target list.\n",
      "This overwrites all previous assignments to those variables including\n",
      "those made in the suite of the for-loop:\n",
      "\n",
      "   for i in range(10):\n",
      "       print(i)\n",
      "       i = 5             # this will not affect the for-loop\n",
      "                         # because i will be overwritten with the next\n",
      "                         # index in the range\n",
      "\n",
      "Names in the target list are not deleted when the loop is finished,\n",
      "but if the sequence is empty, they will not have been assigned to at\n",
      "all by the loop.  Hint: the built-in function \"range()\" returns an\n",
      "iterator of integers suitable to emulate the effect of Pascal’s \"for i\n",
      ":= a to b do\"; e.g., \"list(range(3))\" returns the list \"[0, 1, 2]\".\n",
      "\n",
      "Note:\n",
      "\n",
      "  There is a subtlety when the sequence is being modified by the loop\n",
      "  (this can only occur for mutable sequences, e.g. lists).  An\n",
      "  internal counter is used to keep track of which item is used next,\n",
      "  and this is incremented on each iteration.  When this counter has\n",
      "  reached the length of the sequence the loop terminates.  This means\n",
      "  that if the suite deletes the current (or a previous) item from the\n",
      "  sequence, the next item will be skipped (since it gets the index of\n",
      "  the current item which has already been treated).  Likewise, if the\n",
      "  suite inserts an item in the sequence before the current item, the\n",
      "  current item will be treated again the next time through the loop.\n",
      "  This can lead to nasty bugs that can be avoided by making a\n",
      "  temporary copy using a slice of the whole sequence, e.g.,\n",
      "\n",
      "     for x in a[:]:\n",
      "         if x < 0: a.remove(x)\n",
      "\n",
      "Related help topics: break, continue, while\n",
      "\n"
     ]
    }
   ],
   "source": [
    "help(\"for\")"
   ]
  },
  {
   "cell_type": "code",
   "execution_count": 17,
   "id": "0f04dbb2",
   "metadata": {},
   "outputs": [
    {
     "name": "stdout",
     "output_type": "stream",
     "text": [
      "please key in you name:Victor Kelechi\n",
      "please input the number of times:9\n",
      "Victor Kelechi\n",
      "Victor Kelechi\n",
      "Victor Kelechi\n",
      "Victor Kelechi\n",
      "Victor Kelechi\n",
      "Victor Kelechi\n",
      "Victor Kelechi\n",
      "Victor Kelechi\n",
      "Victor Kelechi\n"
     ]
    }
   ],
   "source": [
    "User_name = input(\"please key in you name:\")\n",
    "how_many_times = int(input(\"please input the number of times:\"))\n",
    "for i in range(how_many_times):\n",
    "    print(User_name)"
   ]
  },
  {
   "cell_type": "code",
   "execution_count": 38,
   "id": "a1e05b77",
   "metadata": {},
   "outputs": [
    {
     "name": "stdout",
     "output_type": "stream",
     "text": [
      "A A A A A A A A A A B B B B B B B C D C D C D C D C D C D C D C D E\n",
      "F F F F F F G\n"
     ]
    }
   ],
   "source": [
    "x = range(33)\n",
    "for i in x:\n",
    "    if i < 10:\n",
    "        print(\"A\", end=\" \")\n",
    "    elif i > 10 and i <= 17:\n",
    "        print(\"B\", end=\" \")\n",
    "    elif i > 17 and i <= 25:\n",
    "        print(\"C\", end=\" \"), print(\"D\", end=\" \")\n",
    "    elif i >25 and i <= 26:\n",
    "        print(\"E\")\n",
    "    elif i >26 and i <=33:\n",
    "        print(\"F\", end=\" \")\n",
    "else:\n",
    "        print(\"G\")\n"
   ]
  },
  {
   "cell_type": "code",
   "execution_count": 51,
   "id": "f7aea2d6",
   "metadata": {},
   "outputs": [
    {
     "name": "stdout",
     "output_type": "stream",
     "text": [
      "How many number do you want:15\n",
      "0 1 1 2 3 5 8 13 21 34 55 89 144 233 377 "
     ]
    }
   ],
   "source": [
    "how_many_Fibonacci_number = int(input(\"How many number do you want:\"))\n",
    "for i in range(how_many_Fibonacci_number):\n",
    "    print(int(((1.618034**i)-(1-1.618034)**i)/(5**0.5)), end=\" \")\n",
    "    "
   ]
  },
  {
   "cell_type": "code",
   "execution_count": 54,
   "id": "522d998e",
   "metadata": {},
   "outputs": [
    {
     "name": "stdout",
     "output_type": "stream",
     "text": [
      "*\n",
      "**\n",
      "***\n",
      "****\n"
     ]
    }
   ],
   "source": [
    "x = range(1,5)\n",
    "for i in x:\n",
    "    print(\"*\"*i)"
   ]
  },
  {
   "cell_type": "code",
   "execution_count": 55,
   "id": "8ae0058c",
   "metadata": {},
   "outputs": [
    {
     "name": "stdout",
     "output_type": "stream",
     "text": [
      "****\n",
      "***\n",
      "**\n",
      "*\n"
     ]
    }
   ],
   "source": [
    "x = range(5,1,-1)\n",
    "for i in x:\n",
    "    print(\"*\"*(i-1))"
   ]
  },
  {
   "cell_type": "code",
   "execution_count": 62,
   "id": "ecb240c7",
   "metadata": {},
   "outputs": [
    {
     "name": "stdout",
     "output_type": "stream",
     "text": [
      "    *     \n",
      "   ***    \n",
      "  *****   \n",
      " *******  \n",
      "  *****   \n",
      "   ***    \n",
      "    *     \n"
     ]
    }
   ],
   "source": [
    "x = range(1,8,2)\n",
    "for i in x:\n",
    "    w = \"*\"*i\n",
    "    print(w.center(10))\n",
    "y = range(5,0,-2)\n",
    "for i in y:\n",
    "    z = \"*\"*i\n",
    "    print(z.center(10))"
   ]
  },
  {
   "cell_type": "code",
   "execution_count": 74,
   "id": "8fccfbd0",
   "metadata": {},
   "outputs": [
    {
     "name": "stdout",
     "output_type": "stream",
     "text": [
      "Input your desired length: 30\n",
      "******************************\n",
      "*                            *\n",
      "*                            *\n",
      "******************************\n"
     ]
    }
   ],
   "source": [
    "w = int(input(\"Input your desired length: \"))\n",
    "x = range(0,1)\n",
    "for i in x:\n",
    "    print(\"*\"*w)\n",
    "y = range(0,2)\n",
    "for i in y:\n",
    "    print(\"*\",\" \"*(w-4),\"*\")\n",
    "z = range(0,1)\n",
    "for i in z:\n",
    "    print(\"*\"*w)"
   ]
  },
  {
   "cell_type": "code",
   "execution_count": 88,
   "id": "ee44aa61",
   "metadata": {},
   "outputs": [
    {
     "name": "stdout",
     "output_type": "stream",
     "text": [
      "1\n",
      "2\n",
      "3\n",
      "4\n",
      "5\n"
     ]
    }
   ],
   "source": [
    "players = range(1,6)\n",
    "for player in players:\n",
    "    print(player)\n",
    "    players = player%5 + 1\n",
    "    continue\n",
    "    "
   ]
  },
  {
   "cell_type": "code",
   "execution_count": 239,
   "id": "6f2a08dd",
   "metadata": {},
   "outputs": [
    {
     "name": "stdout",
     "output_type": "stream",
     "text": [
      "69\n",
      "0.7344993925693046\n",
      "14\n"
     ]
    }
   ],
   "source": [
    "# Random NUmbers\n",
    "#from random import randint\n",
    "import random\n",
    "x = random.randint(1,100)\n",
    "print(x) # this returns a single value unlike that of NumPy.\n",
    "x = random.random() # Still returns a singular value between (0,1) unlike that of NumPy. takes no argument.\n",
    "print(x)\n",
    "x= random.choice(tuple(range(0,200,2))) # Choose a random element from a non-empty sequence.\n",
    "print(x)"
   ]
  },
  {
   "cell_type": "code",
   "execution_count": 256,
   "id": "2af98df6",
   "metadata": {},
   "outputs": [
    {
     "name": "stdout",
     "output_type": "stream",
     "text": [
      "8\n",
      "5\n",
      "123456.76\n",
      "123456.765\n",
      "123456.7649\n",
      "123456.8\n",
      "123460.0\n",
      "123500.0\n",
      "123000.0\n",
      "120000.0\n"
     ]
    }
   ],
   "source": [
    "#help(\"math.floor\")\n",
    "#help(\"math.ceil\")\n",
    "from math import floor\n",
    "from math import ceil\n",
    "x = 8.45555\n",
    "y = 4.67888\n",
    "z = floor(x) # Return the floor of x as an Integral.  This is the largest integer <= x.\n",
    "w = ceil(y) #  Return the ceiling of x as an Integral.This is the smallest integer >= x.\n",
    "print(z)\n",
    "print(w)\n",
    "first_number = 123456.764945\n",
    "print(round(first_number,2)) # the round funtion in python takes two arguments\n",
    "print(round(first_number,3)) # one is the number to be rounded up\n",
    "print(round(first_number,4)) # the other is the number of decimal places or the nearest 10s to which we want to round to.\n",
    "print(round(first_number,1)) # the second argument can either be positive or negative numbers. negative means nearest 10s.\n",
    "print(round(first_number,-1))\n",
    "print(round(first_number,-2))\n",
    "print(round(first_number,-3))\n",
    "print(round(first_number,-4))"
   ]
  },
  {
   "cell_type": "code",
   "execution_count": 259,
   "id": "854b285b",
   "metadata": {},
   "outputs": [
    {
     "name": "stdout",
     "output_type": "stream",
     "text": [
      "Help on built-in function round in module builtins:\n",
      "\n",
      "round(number, ndigits=None)\n",
      "    Round a number to a given precision in decimal digits.\n",
      "    \n",
      "    The return value is an integer if ndigits is omitted or None.  Otherwise\n",
      "    the return value has the same type as the number.  ndigits may be negative.\n",
      "\n"
     ]
    },
    {
     "data": {
      "text/plain": [
       "['__doc__',\n",
       " '__loader__',\n",
       " '__name__',\n",
       " '__package__',\n",
       " '__spec__',\n",
       " 'acos',\n",
       " 'acosh',\n",
       " 'asin',\n",
       " 'asinh',\n",
       " 'atan',\n",
       " 'atan2',\n",
       " 'atanh',\n",
       " 'ceil',\n",
       " 'comb',\n",
       " 'copysign',\n",
       " 'cos',\n",
       " 'cosh',\n",
       " 'degrees',\n",
       " 'dist',\n",
       " 'e',\n",
       " 'erf',\n",
       " 'erfc',\n",
       " 'exp',\n",
       " 'expm1',\n",
       " 'fabs',\n",
       " 'factorial',\n",
       " 'floor',\n",
       " 'fmod',\n",
       " 'frexp',\n",
       " 'fsum',\n",
       " 'gamma',\n",
       " 'gcd',\n",
       " 'hypot',\n",
       " 'inf',\n",
       " 'isclose',\n",
       " 'isfinite',\n",
       " 'isinf',\n",
       " 'isnan',\n",
       " 'isqrt',\n",
       " 'lcm',\n",
       " 'ldexp',\n",
       " 'lgamma',\n",
       " 'log',\n",
       " 'log10',\n",
       " 'log1p',\n",
       " 'log2',\n",
       " 'modf',\n",
       " 'nan',\n",
       " 'nextafter',\n",
       " 'perm',\n",
       " 'pi',\n",
       " 'pow',\n",
       " 'prod',\n",
       " 'radians',\n",
       " 'remainder',\n",
       " 'sin',\n",
       " 'sinh',\n",
       " 'sqrt',\n",
       " 'tan',\n",
       " 'tanh',\n",
       " 'tau',\n",
       " 'trunc',\n",
       " 'ulp']"
      ]
     },
     "execution_count": 259,
     "metadata": {},
     "output_type": "execute_result"
    }
   ],
   "source": [
    "#help(\"math.floor\")\n",
    "#help(\"math.ceil\")\n",
    "help(\"round\")\n",
    "import math\n",
    "dir(math)"
   ]
  },
  {
   "cell_type": "code",
   "execution_count": 266,
   "id": "35581c3c",
   "metadata": {},
   "outputs": [
    {
     "name": "stdout",
     "output_type": "stream",
     "text": [
      "6\n",
      "6\n",
      "5\n",
      "5\n",
      "5\n",
      "3\n",
      "3\n",
      "6\n",
      "5\n",
      "3\n",
      "5\n",
      "5\n",
      "3\n",
      "5\n",
      "6\n",
      "3\n",
      "5\n",
      "6\n",
      "5\n",
      "3\n",
      "5\n",
      "3\n",
      "3\n",
      "6\n",
      "4\n",
      "6\n",
      "5\n",
      "5\n",
      "6\n",
      "3\n",
      "4\n",
      "3\n",
      "4\n",
      "5\n",
      "3\n",
      "3\n",
      "3\n",
      "3\n",
      "6\n",
      "5\n",
      "4\n",
      "5\n",
      "3\n",
      "6\n",
      "4\n",
      "4\n",
      "5\n",
      "6\n",
      "5\n",
      "4\n"
     ]
    }
   ],
   "source": [
    "import random\n",
    "x = range(0,50)\n",
    "for i in x:\n",
    "    print(random.randint(3,6))"
   ]
  },
  {
   "cell_type": "code",
   "execution_count": 275,
   "id": "3ffb75ba",
   "metadata": {},
   "outputs": [
    {
     "name": "stdout",
     "output_type": "stream",
     "text": [
      "50 2\n",
      "2500\n"
     ]
    }
   ],
   "source": [
    "x = random.randint(1,50)\n",
    "y = random.randint(2,5)\n",
    "print(x, y)\n",
    "print(x**y)"
   ]
  },
  {
   "cell_type": "code",
   "execution_count": 290,
   "id": "9e1560ce",
   "metadata": {},
   "outputs": [
    {
     "name": "stdout",
     "output_type": "stream",
     "text": [
      "8\n",
      "My name is Victor Kelechi\n",
      "My name is Victor Kelechi\n",
      "My name is Victor Kelechi\n",
      "My name is Victor Kelechi\n",
      "My name is Victor Kelechi\n",
      "My name is Victor Kelechi\n",
      "My name is Victor Kelechi\n",
      "My name is Victor Kelechi\n"
     ]
    }
   ],
   "source": [
    "x = random.randint(1,10)\n",
    "print(x)\n",
    "for i in range(x):\n",
    "    print(\"My name is Victor Kelechi\")"
   ]
  },
  {
   "cell_type": "code",
   "execution_count": null,
   "id": "d177daee",
   "metadata": {},
   "outputs": [],
   "source": []
  }
 ],
 "metadata": {
  "kernelspec": {
   "display_name": "Python 3 (ipykernel)",
   "language": "python",
   "name": "python3"
  },
  "language_info": {
   "codemirror_mode": {
    "name": "ipython",
    "version": 3
   },
   "file_extension": ".py",
   "mimetype": "text/x-python",
   "name": "python",
   "nbconvert_exporter": "python",
   "pygments_lexer": "ipython3",
   "version": "3.9.13"
  }
 },
 "nbformat": 4,
 "nbformat_minor": 5
}
