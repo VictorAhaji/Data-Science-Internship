{
 "cells": [
  {
   "cell_type": "code",
   "execution_count": 1,
   "id": "cfa8afef",
   "metadata": {},
   "outputs": [
    {
     "name": "stdout",
     "output_type": "stream",
     "text": [
      "Hello World\n"
     ]
    }
   ],
   "source": [
    "# write a code to print \"Hello World\"\n",
    "x = \"Hello World\"\n",
    "print(x)"
   ]
  },
  {
   "cell_type": "code",
   "execution_count": 3,
   "id": "257b9b5d",
   "metadata": {},
   "outputs": [
    {
     "name": "stdout",
     "output_type": "stream",
     "text": [
      "<class 'int'>\n",
      "<class 'str'>\n",
      "<class 'float'>\n"
     ]
    }
   ],
   "source": [
    "# write a code to show the three major types of data\n",
    "y = 3\n",
    "z = \"Prisca\"\n",
    "w = 5.679\n",
    "print(type(y))\n",
    "print(type(z))\n",
    "print(type(w))"
   ]
  },
  {
   "cell_type": "code",
   "execution_count": 16,
   "id": "9e21d761",
   "metadata": {},
   "outputs": [
    {
     "name": "stdout",
     "output_type": "stream",
     "text": [
      "20.5\n"
     ]
    }
   ],
   "source": [
    "# write a code to check for two numbers which is greater\n",
    "def greater(a,b):\n",
    "    if a>b:\n",
    "        return a\n",
    "    else:\n",
    "        return b\n",
    "\n",
    "print(greater(20,20.5))"
   ]
  },
  {
   "cell_type": "code",
   "execution_count": 13,
   "id": "afd48754",
   "metadata": {},
   "outputs": [
    {
     "name": "stdout",
     "output_type": "stream",
     "text": [
      "q is in question\n"
     ]
    }
   ],
   "source": [
    "# write a code to check if \"q\"is present in \"question\"\n",
    "word = \"question\"\n",
    "letter = \"q\"\n",
    "if letter in word:\n",
    "    print(letter,\"is in\",word)\n",
    "else:\n",
    "        print(letter,\"is not in\",word)"
   ]
  },
  {
   "cell_type": "code",
   "execution_count": 17,
   "id": "634bb830",
   "metadata": {},
   "outputs": [
    {
     "name": "stdout",
     "output_type": "stream",
     "text": [
      "<class 'tuple'>\n",
      "<class 'list'>\n",
      "<class 'dict'>\n"
     ]
    }
   ],
   "source": [
    "myTuple = (2, 3, 5, \"red\", \"blue\")\n",
    "myList = [3,\"Jane\", \"Anita\", \"Victor\"]\n",
    "myDict = {\"Name\": \"Victor\", \"Age\": 21, \"Class\": \"500 Level\"}\n",
    "print(type(myTuple))\n",
    "print(type(myList))\n",
    "print(type(myDict))\n"
   ]
  },
  {
   "cell_type": "code",
   "execution_count": 20,
   "id": "d857ec5e",
   "metadata": {},
   "outputs": [
    {
     "name": "stdout",
     "output_type": "stream",
     "text": [
      "None\n"
     ]
    }
   ],
   "source": [
    "# User input\n",
    "studentscores = [85,90,75,99,100,64,55,43,42,40,25]\n",
    "print(studentscores.sort())\n"
   ]
  },
  {
   "cell_type": "code",
   "execution_count": 31,
   "id": "de99ecff",
   "metadata": {},
   "outputs": [
    {
     "name": "stdout",
     "output_type": "stream",
     "text": [
      "500500\n"
     ]
    }
   ],
   "source": [
    "# program to add Natural numbers\n",
    "# numbers up to 1000\n",
    "#num\n",
    "num = 1000\n",
    "sums= 0\n",
    "counter = 1\n",
    "while counter <= num:\n",
    "    sums = sums + counter\n",
    "    counter += 1\n",
    "\n",
    "print(sums)\n",
    "    \n"
   ]
  },
  {
   "cell_type": "code",
   "execution_count": 32,
   "id": "d972c8aa",
   "metadata": {},
   "outputs": [
    {
     "name": "stdout",
     "output_type": "stream",
     "text": [
      "Help on built-in function abs in module builtins:\n",
      "\n",
      "abs(x, /)\n",
      "    Return the absolute value of the argument.\n",
      "\n"
     ]
    }
   ],
   "source": [
    "help(abs)"
   ]
  },
  {
   "cell_type": "code",
   "execution_count": 34,
   "id": "940859e6",
   "metadata": {},
   "outputs": [
    {
     "data": {
      "text/plain": [
       "array([2, 3, 4])"
      ]
     },
     "execution_count": 34,
     "metadata": {},
     "output_type": "execute_result"
    }
   ],
   "source": [
    "import numpy as np\n",
    "arr = np.array([-2,-3,-4])\n",
    "abs(arr)"
   ]
  },
  {
   "cell_type": "code",
   "execution_count": 39,
   "id": "810168db",
   "metadata": {},
   "outputs": [
    {
     "name": "stdout",
     "output_type": "stream",
     "text": [
      "3.0\n",
      "0.0\n"
     ]
    }
   ],
   "source": [
    "import math\n",
    "math.sqrt(9)\n",
    "math.log(1,10)\n",
    "print(math.sqrt(9))\n",
    "print(math.log(1, 10))\n"
   ]
  },
  {
   "cell_type": "code",
   "execution_count": 6,
   "id": "9a77b100",
   "metadata": {},
   "outputs": [
    {
     "name": "stdout",
     "output_type": "stream",
     "text": [
      "please enter your number: 24\n",
      "great\n"
     ]
    }
   ],
   "source": [
    "x = int(input(\"please enter your number: \"))\n",
    "if x > 45:\n",
    "    print(\"wow!\")\n",
    "    \n",
    "elif x == 24:\n",
    "    print(\"great\")\n",
    "\n",
    "elif x <= 15:\n",
    "    print(\"fire\")\n",
    "    \n",
    "else:\n",
    "    print(\"crunchy\")\n",
    "    "
   ]
  },
  {
   "cell_type": "code",
   "execution_count": 16,
   "id": "e43080c4",
   "metadata": {},
   "outputs": [
    {
     "name": "stdout",
     "output_type": "stream",
     "text": [
      "[34, 39, 40, 45, 56, 67, 68, 73, 75, 88, 89, 95]\n",
      "[95, 89, 88, 75, 73, 68, 67, 56, 45, 40, 39, 34]\n"
     ]
    }
   ],
   "source": [
    "# creata a list, then sort and reverse sort the list\n",
    "students_scores = [67,89,45,68,95,88,73,75,56,39,40,34]\n",
    "type(students_scores)\n",
    "\n",
    "students_scores.sort()\n",
    "print(students_scores)\n",
    "students_scores.reverse()\n",
    "print(students_scores)"
   ]
  },
  {
   "cell_type": "code",
   "execution_count": 120,
   "id": "d54390c0",
   "metadata": {},
   "outputs": [
    {
     "name": "stdout",
     "output_type": "stream",
     "text": [
      "********************\n",
      "********************\n",
      "********************\n",
      "********************\n"
     ]
    }
   ],
   "source": [
    "for i in range(4):\n",
    "    print((\"*\")*20)"
   ]
  },
  {
   "cell_type": "code",
   "execution_count": 121,
   "id": "b79a68a6",
   "metadata": {},
   "outputs": [
    {
     "name": "stdout",
     "output_type": "stream",
     "text": [
      "*\n",
      "**\n",
      "***\n",
      "****\n",
      "*****\n",
      "******\n"
     ]
    }
   ],
   "source": [
    "for i in range(6):\n",
    "    print((\"*\")*(i+1))"
   ]
  },
  {
   "cell_type": "code",
   "execution_count": 124,
   "id": "ede3d34b",
   "metadata": {},
   "outputs": [
    {
     "name": "stdout",
     "output_type": "stream",
     "text": [
      "\n",
      "Here is a list of the Python keywords.  Enter any keyword to get more help.\n",
      "\n",
      "False               break               for                 not\n",
      "None                class               from                or\n",
      "True                continue            global              pass\n",
      "__peg_parser__      def                 if                  raise\n",
      "and                 del                 import              return\n",
      "as                  elif                in                  try\n",
      "assert              else                is                  while\n",
      "async               except              lambda              with\n",
      "await               finally             nonlocal            yield\n",
      "\n"
     ]
    }
   ],
   "source": [
    " help(\"keywords\")"
   ]
  },
  {
   "cell_type": "code",
   "execution_count": 60,
   "id": "6a2bb1e3",
   "metadata": {},
   "outputs": [
    {
     "name": "stdout",
     "output_type": "stream",
     "text": [
      "34\n",
      "45\n",
      "67\n",
      "89\n",
      "58.75\n",
      "235\n"
     ]
    }
   ],
   "source": [
    "x = int(input())\n",
    "y = int(input())\n",
    "z = int(input())\n",
    "w = int(input())\n",
    "my_average = (x+y+z+w)/4\n",
    "my_total = x+y+z+w\n",
    "print(my_average)\n",
    "print(my_total)\n",
    "         \n",
    "         "
   ]
  },
  {
   "cell_type": "code",
   "execution_count": 105,
   "id": "b33c8528",
   "metadata": {},
   "outputs": [
    {
     "name": "stdout",
     "output_type": "stream",
     "text": [
      "enter the value of x:9\n",
      "The square root of 9 is 3\n"
     ]
    }
   ],
   "source": [
    "x = int(input(\"enter the value of x:\"  ))\n",
    "import math\n",
    "math.sqrt(x)\n",
    "print(\"The square root of\", x, \"is\", int(math.sqrt(x)))"
   ]
  },
  {
   "cell_type": "code",
   "execution_count": 104,
   "id": "e31f8cff",
   "metadata": {},
   "outputs": [
    {
     "name": "stdout",
     "output_type": "stream",
     "text": [
      "enter the value of x :9\n",
      "The square of 9 is 81\n"
     ]
    }
   ],
   "source": [
    "x = int(input(\"enter the value of x :\" ))\n",
    "y = x**2\n",
    "print(\"The square of\", x , \"is\",  y)"
   ]
  },
  {
   "cell_type": "code",
   "execution_count": 89,
   "id": "c044e424",
   "metadata": {},
   "outputs": [],
   "source": [
    "def Math_operation(x,y,z,w):\n",
    "    operation = (x-y)/((z*w)+5)\n",
    "    return operation"
   ]
  },
  {
   "cell_type": "code",
   "execution_count": 90,
   "id": "8124cb67",
   "metadata": {},
   "outputs": [
    {
     "data": {
      "text/plain": [
       "0.1017249004865104"
      ]
     },
     "execution_count": 90,
     "metadata": {},
     "output_type": "execute_result"
    }
   ],
   "source": [
    "Math_operation(512,282,47,48)"
   ]
  },
  {
   "cell_type": "code",
   "execution_count": 91,
   "id": "fca31d51",
   "metadata": {},
   "outputs": [
    {
     "data": {
      "text/plain": [
       "0.10172"
      ]
     },
     "execution_count": 91,
     "metadata": {},
     "output_type": "execute_result"
    }
   ],
   "source": [
    "round(Math_operation(512,282,47,48),5)"
   ]
  },
  {
   "cell_type": "code",
   "execution_count": 107,
   "id": "0148e834",
   "metadata": {},
   "outputs": [
    {
     "name": "stdout",
     "output_type": "stream",
     "text": [
      "enter weight in kilogram:100\n",
      "220.00000000000003\n"
     ]
    }
   ],
   "source": [
    "weight_Kilo = int(input(\"enter weight in kilogram:\" ))\n",
    "Kilo_to_Pounds = (2.2 * weight_Kilo)\n",
    "weight_Pounds = Kilo_to_Pounds\n",
    "print(weight_Pounds)"
   ]
  },
  {
   "cell_type": "code",
   "execution_count": 109,
   "id": "20ac2ca9",
   "metadata": {},
   "outputs": [
    {
     "name": "stdout",
     "output_type": "stream",
     "text": [
      "enter number:4\n",
      "The square of your number is 16\n",
      "enter number:5\n",
      "The square of your number is 25\n",
      "enter number:6\n",
      "The square of your number is 36\n",
      "enter number:7\n",
      "The square of your number is 49\n",
      "enter number:8\n",
      "The square of your number is 64\n",
      "enter number:9\n",
      "The square of your number is 81\n",
      "enter number:1\n",
      "The square of your number is 1\n",
      "enter number:2\n",
      "The square of your number is 4\n",
      "enter number:3\n",
      "The square of your number is 9\n",
      "enter number:10\n",
      "The square of your number is 100\n",
      "The loop is now done.\n"
     ]
    }
   ],
   "source": [
    "for i in range(10):\n",
    "    num = int(input(\"enter number:\"))\n",
    "    print(\"The square of your number is\", num*num)\n",
    "print(\"The loop is now done.\")"
   ]
  },
  {
   "cell_type": "code",
   "execution_count": 117,
   "id": "9bebdc54",
   "metadata": {},
   "outputs": [
    {
     "name": "stdout",
     "output_type": "stream",
     "text": [
      "A\n",
      "B\n",
      "C\n",
      "C\n",
      "C\n",
      "C\n",
      "C\n",
      "D\n",
      "D\n",
      "D\n",
      "D\n",
      "D\n",
      "E\n"
     ]
    }
   ],
   "source": [
    "print(\"A\")\n",
    "print(\"B\")\n",
    "for i in range(5):\n",
    "    print(\"C\")\n",
    "for i in range(5):\n",
    "    print(\"D\")\n",
    "print(\"E\")"
   ]
  },
  {
   "cell_type": "code",
   "execution_count": 118,
   "id": "7062f3e7",
   "metadata": {},
   "outputs": [
    {
     "name": "stdout",
     "output_type": "stream",
     "text": [
      "5 4 3 2 1 Blast off!\n"
     ]
    }
   ],
   "source": [
    "for i in range(5,0,-1):\n",
    "    print(i, end=\" \") #the end= \" \" statement just keeps everthing on the same line.\n",
    "print(\"Blast off!\")"
   ]
  },
  {
   "cell_type": "code",
   "execution_count": 122,
   "id": "380ff7d2",
   "metadata": {},
   "outputs": [
    {
     "name": "stdout",
     "output_type": "stream",
     "text": [
      "1 Victor Ahaji\n",
      "2 Victor Ahaji\n",
      "3 Victor Ahaji\n",
      "4 Victor Ahaji\n",
      "5 Victor Ahaji\n",
      "6 Victor Ahaji\n",
      "7 Victor Ahaji\n",
      "8 Victor Ahaji\n",
      "9 Victor Ahaji\n",
      "10 Victor Ahaji\n",
      "11 Victor Ahaji\n",
      "12 Victor Ahaji\n",
      "13 Victor Ahaji\n",
      "14 Victor Ahaji\n",
      "15 Victor Ahaji\n",
      "16 Victor Ahaji\n",
      "17 Victor Ahaji\n",
      "18 Victor Ahaji\n",
      "19 Victor Ahaji\n",
      "20 Victor Ahaji\n",
      "21 Victor Ahaji\n",
      "22 Victor Ahaji\n",
      "23 Victor Ahaji\n",
      "24 Victor Ahaji\n",
      "25 Victor Ahaji\n",
      "26 Victor Ahaji\n",
      "27 Victor Ahaji\n",
      "28 Victor Ahaji\n",
      "29 Victor Ahaji\n",
      "30 Victor Ahaji\n",
      "31 Victor Ahaji\n",
      "32 Victor Ahaji\n",
      "33 Victor Ahaji\n",
      "34 Victor Ahaji\n",
      "35 Victor Ahaji\n",
      "36 Victor Ahaji\n",
      "37 Victor Ahaji\n",
      "38 Victor Ahaji\n",
      "39 Victor Ahaji\n",
      "40 Victor Ahaji\n",
      "41 Victor Ahaji\n",
      "42 Victor Ahaji\n",
      "43 Victor Ahaji\n",
      "44 Victor Ahaji\n",
      "45 Victor Ahaji\n",
      "46 Victor Ahaji\n",
      "47 Victor Ahaji\n",
      "48 Victor Ahaji\n",
      "49 Victor Ahaji\n",
      "50 Victor Ahaji\n",
      "51 Victor Ahaji\n",
      "52 Victor Ahaji\n",
      "53 Victor Ahaji\n",
      "54 Victor Ahaji\n",
      "55 Victor Ahaji\n",
      "56 Victor Ahaji\n",
      "57 Victor Ahaji\n",
      "58 Victor Ahaji\n",
      "59 Victor Ahaji\n",
      "60 Victor Ahaji\n",
      "61 Victor Ahaji\n",
      "62 Victor Ahaji\n",
      "63 Victor Ahaji\n",
      "64 Victor Ahaji\n",
      "65 Victor Ahaji\n",
      "66 Victor Ahaji\n",
      "67 Victor Ahaji\n",
      "68 Victor Ahaji\n",
      "69 Victor Ahaji\n",
      "70 Victor Ahaji\n",
      "71 Victor Ahaji\n",
      "72 Victor Ahaji\n",
      "73 Victor Ahaji\n",
      "74 Victor Ahaji\n",
      "75 Victor Ahaji\n",
      "76 Victor Ahaji\n",
      "77 Victor Ahaji\n",
      "78 Victor Ahaji\n",
      "79 Victor Ahaji\n",
      "80 Victor Ahaji\n",
      "81 Victor Ahaji\n",
      "82 Victor Ahaji\n",
      "83 Victor Ahaji\n",
      "84 Victor Ahaji\n",
      "85 Victor Ahaji\n",
      "86 Victor Ahaji\n",
      "87 Victor Ahaji\n",
      "88 Victor Ahaji\n",
      "89 Victor Ahaji\n",
      "90 Victor Ahaji\n",
      "91 Victor Ahaji\n",
      "92 Victor Ahaji\n",
      "93 Victor Ahaji\n",
      "94 Victor Ahaji\n",
      "95 Victor Ahaji\n",
      "96 Victor Ahaji\n",
      "97 Victor Ahaji\n",
      "98 Victor Ahaji\n",
      "99 Victor Ahaji\n",
      "100 Victor Ahaji\n"
     ]
    }
   ],
   "source": [
    "for i in range(100):\n",
    "    print(i+1, \"Victor Ahaji\")\n",
    "    "
   ]
  },
  {
   "cell_type": "code",
   "execution_count": 138,
   "id": "801f3a4e",
   "metadata": {},
   "outputs": [
    {
     "name": "stdout",
     "output_type": "stream",
     "text": [
      "Ahaji Victor Ahaji Victor Ahaji Victor Ahaji Victor Ahaji Victor Ahaji Victor Ahaji Victor Ahaji Victor Ahaji Victor\n",
      "Ahaji Victor\n",
      "Ahaji Victor\n",
      "Ahaji Victor\n",
      "Ahaji Victor\n",
      "Ahaji Victor\n",
      "Ahaji Victor\n",
      "Ahaji Victor\n"
     ]
    }
   ],
   "source": [
    "for i in range(8):\n",
    "    print(\"Ahaji Victor\", end=\" \")\n",
    "for i in range(8):\n",
    "    print(\"Ahaji Victor\")"
   ]
  },
  {
   "cell_type": "code",
   "execution_count": 143,
   "id": "e3b49fcd",
   "metadata": {},
   "outputs": [
    {
     "name": "stdout",
     "output_type": "stream",
     "text": [
      "1 --- 1\n",
      "2 --- 4\n",
      "3 --- 9\n",
      "4 --- 16\n",
      "5 --- 25\n",
      "6 --- 36\n",
      "7 --- 49\n",
      "8 --- 64\n",
      "9 --- 81\n",
      "10 --- 100\n",
      "11 --- 121\n",
      "12 --- 144\n",
      "13 --- 169\n",
      "14 --- 196\n",
      "15 --- 225\n",
      "16 --- 256\n",
      "17 --- 289\n",
      "18 --- 324\n",
      "19 --- 361\n",
      "20 --- 400\n"
     ]
    }
   ],
   "source": [
    "for i in range(20):\n",
    "    print(i+1, \"---\", (i+1)**2)"
   ]
  }
 ],
 "metadata": {
  "kernelspec": {
   "display_name": "Python 3 (ipykernel)",
   "language": "python",
   "name": "python3"
  },
  "language_info": {
   "codemirror_mode": {
    "name": "ipython",
    "version": 3
   },
   "file_extension": ".py",
   "mimetype": "text/x-python",
   "name": "python",
   "nbconvert_exporter": "python",
   "pygments_lexer": "ipython3",
   "version": "3.9.13"
  }
 },
 "nbformat": 4,
 "nbformat_minor": 5
}
